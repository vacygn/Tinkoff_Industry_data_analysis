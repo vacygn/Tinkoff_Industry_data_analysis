{
  "nbformat": 4,
  "nbformat_minor": 0,
  "metadata": {
    "colab": {
      "provenance": []
    },
    "kernelspec": {
      "name": "python3",
      "display_name": "Python 3"
    },
    "language_info": {
      "name": "python"
    }
  },
  "cells": [
    {
      "cell_type": "code",
      "execution_count": null,
      "metadata": {
        "colab": {
          "base_uri": "https://localhost:8080/"
        },
        "id": "tNzeUgGTE7Lb",
        "outputId": "4e196142-0ddf-40ee-f096-b132e967a5a7"
      },
      "outputs": [
        {
          "output_type": "stream",
          "name": "stdout",
          "text": [
            "Drive already mounted at /content/gdrive; to attempt to forcibly remount, call drive.mount(\"/content/gdrive\", force_remount=True).\n"
          ]
        }
      ],
      "source": [
        "from google.colab import drive\n",
        "drive.mount('/content/gdrive')"
      ]
    },
    {
      "cell_type": "code",
      "source": [
        "import pandas as pd\n",
        "from scipy.stats import norm\n",
        "from scipy.stats import anderson_ksamp\n",
        "from statsmodels.stats.proportion import proportions_ztest\n",
        "\n",
        "import seaborn as sns\n",
        "import matplotlib.pyplot as plt\n",
        "\n",
        "import numpy as np"
      ],
      "metadata": {
        "id": "_IXG3aYIfp-3"
      },
      "execution_count": null,
      "outputs": []
    },
    {
      "cell_type": "markdown",
      "source": [
        "**Контекст**\n",
        "\n",
        "В связи с постановлением Центрального Банка\n",
        "наше текущее содержание диалога с клиентом (скрипт)\n",
        "операторов считается слишком жёстким,\n",
        "и нам нужно придумать более мягкий скрипт,\n",
        "который будет всё ещё иметь хорошие показатели.\n",
        "У нас есть два варианта более мягкого скрипта,\n",
        "и мы хотим выбрать лучший из них.\n",
        "При этом у нас нет времени \n",
        "чтобы ждать вызревания долгих метрик вроде PV.\n",
        "        \n",
        "**Тест**\n",
        "\n",
        "Мы проводим тест,\n",
        "в рамках которого мы разбиваем весь поток\n",
        "на две части рановероятно,\n",
        "где одной части мы продаём одним вариантом скрипта,\n",
        "другой - другим.\n",
        "Целью этого теста\n",
        "является поиск наилучшего скрипта.\n",
        "\n",
        "**Статистические вводные**\n",
        "\n",
        "Уровень значимости 5%.\n",
        "Мы хотели бы различать 8%-ное\n",
        "изменение целевой метрики\n",
        "с вероятностью 80%."
      ],
      "metadata": {
        "id": "K8VfYcb3GMT9"
      }
    },
    {
      "cell_type": "markdown",
      "source": [
        "Посмотрим на имеющиеся исторические данные."
      ],
      "metadata": {
        "id": "9YTV1KyTGXR9"
      }
    },
    {
      "cell_type": "code",
      "source": [
        "hist = pd.read_csv('/content/gdrive/MyDrive/AB tink/hist_telesales.csv', index_col=0)"
      ],
      "metadata": {
        "id": "Xa2F4oKYfyvk"
      },
      "execution_count": null,
      "outputs": []
    },
    {
      "cell_type": "code",
      "source": [
        "hist.head()"
      ],
      "metadata": {
        "colab": {
          "base_uri": "https://localhost:8080/",
          "height": 237
        },
        "id": "s-1Jh2_bgw4x",
        "outputId": "6cb8ee5f-ec83-410b-d072-72231d614d8a"
      },
      "execution_count": null,
      "outputs": [
        {
          "output_type": "execute_result",
          "data": {
            "text/plain": [
              "    Флаг дозвона  Флаг продажи  Расходы  PV  NPV\n",
              "ID                                              \n",
              "0              1             0       90   0  -90\n",
              "1              0             0        5   0   -5\n",
              "2              0             0       68   0  -68\n",
              "3              1             0       22   0  -22\n",
              "4              1             0       22   0  -22"
            ],
            "text/html": [
              "\n",
              "  <div id=\"df-97739302-a1cb-4fcd-b639-328fa3a4688a\">\n",
              "    <div class=\"colab-df-container\">\n",
              "      <div>\n",
              "<style scoped>\n",
              "    .dataframe tbody tr th:only-of-type {\n",
              "        vertical-align: middle;\n",
              "    }\n",
              "\n",
              "    .dataframe tbody tr th {\n",
              "        vertical-align: top;\n",
              "    }\n",
              "\n",
              "    .dataframe thead th {\n",
              "        text-align: right;\n",
              "    }\n",
              "</style>\n",
              "<table border=\"1\" class=\"dataframe\">\n",
              "  <thead>\n",
              "    <tr style=\"text-align: right;\">\n",
              "      <th></th>\n",
              "      <th>Флаг дозвона</th>\n",
              "      <th>Флаг продажи</th>\n",
              "      <th>Расходы</th>\n",
              "      <th>PV</th>\n",
              "      <th>NPV</th>\n",
              "    </tr>\n",
              "    <tr>\n",
              "      <th>ID</th>\n",
              "      <th></th>\n",
              "      <th></th>\n",
              "      <th></th>\n",
              "      <th></th>\n",
              "      <th></th>\n",
              "    </tr>\n",
              "  </thead>\n",
              "  <tbody>\n",
              "    <tr>\n",
              "      <th>0</th>\n",
              "      <td>1</td>\n",
              "      <td>0</td>\n",
              "      <td>90</td>\n",
              "      <td>0</td>\n",
              "      <td>-90</td>\n",
              "    </tr>\n",
              "    <tr>\n",
              "      <th>1</th>\n",
              "      <td>0</td>\n",
              "      <td>0</td>\n",
              "      <td>5</td>\n",
              "      <td>0</td>\n",
              "      <td>-5</td>\n",
              "    </tr>\n",
              "    <tr>\n",
              "      <th>2</th>\n",
              "      <td>0</td>\n",
              "      <td>0</td>\n",
              "      <td>68</td>\n",
              "      <td>0</td>\n",
              "      <td>-68</td>\n",
              "    </tr>\n",
              "    <tr>\n",
              "      <th>3</th>\n",
              "      <td>1</td>\n",
              "      <td>0</td>\n",
              "      <td>22</td>\n",
              "      <td>0</td>\n",
              "      <td>-22</td>\n",
              "    </tr>\n",
              "    <tr>\n",
              "      <th>4</th>\n",
              "      <td>1</td>\n",
              "      <td>0</td>\n",
              "      <td>22</td>\n",
              "      <td>0</td>\n",
              "      <td>-22</td>\n",
              "    </tr>\n",
              "  </tbody>\n",
              "</table>\n",
              "</div>\n",
              "      <button class=\"colab-df-convert\" onclick=\"convertToInteractive('df-97739302-a1cb-4fcd-b639-328fa3a4688a')\"\n",
              "              title=\"Convert this dataframe to an interactive table.\"\n",
              "              style=\"display:none;\">\n",
              "        \n",
              "  <svg xmlns=\"http://www.w3.org/2000/svg\" height=\"24px\"viewBox=\"0 0 24 24\"\n",
              "       width=\"24px\">\n",
              "    <path d=\"M0 0h24v24H0V0z\" fill=\"none\"/>\n",
              "    <path d=\"M18.56 5.44l.94 2.06.94-2.06 2.06-.94-2.06-.94-.94-2.06-.94 2.06-2.06.94zm-11 1L8.5 8.5l.94-2.06 2.06-.94-2.06-.94L8.5 2.5l-.94 2.06-2.06.94zm10 10l.94 2.06.94-2.06 2.06-.94-2.06-.94-.94-2.06-.94 2.06-2.06.94z\"/><path d=\"M17.41 7.96l-1.37-1.37c-.4-.4-.92-.59-1.43-.59-.52 0-1.04.2-1.43.59L10.3 9.45l-7.72 7.72c-.78.78-.78 2.05 0 2.83L4 21.41c.39.39.9.59 1.41.59.51 0 1.02-.2 1.41-.59l7.78-7.78 2.81-2.81c.8-.78.8-2.07 0-2.86zM5.41 20L4 18.59l7.72-7.72 1.47 1.35L5.41 20z\"/>\n",
              "  </svg>\n",
              "      </button>\n",
              "      \n",
              "  <style>\n",
              "    .colab-df-container {\n",
              "      display:flex;\n",
              "      flex-wrap:wrap;\n",
              "      gap: 12px;\n",
              "    }\n",
              "\n",
              "    .colab-df-convert {\n",
              "      background-color: #E8F0FE;\n",
              "      border: none;\n",
              "      border-radius: 50%;\n",
              "      cursor: pointer;\n",
              "      display: none;\n",
              "      fill: #1967D2;\n",
              "      height: 32px;\n",
              "      padding: 0 0 0 0;\n",
              "      width: 32px;\n",
              "    }\n",
              "\n",
              "    .colab-df-convert:hover {\n",
              "      background-color: #E2EBFA;\n",
              "      box-shadow: 0px 1px 2px rgba(60, 64, 67, 0.3), 0px 1px 3px 1px rgba(60, 64, 67, 0.15);\n",
              "      fill: #174EA6;\n",
              "    }\n",
              "\n",
              "    [theme=dark] .colab-df-convert {\n",
              "      background-color: #3B4455;\n",
              "      fill: #D2E3FC;\n",
              "    }\n",
              "\n",
              "    [theme=dark] .colab-df-convert:hover {\n",
              "      background-color: #434B5C;\n",
              "      box-shadow: 0px 1px 3px 1px rgba(0, 0, 0, 0.15);\n",
              "      filter: drop-shadow(0px 1px 2px rgba(0, 0, 0, 0.3));\n",
              "      fill: #FFFFFF;\n",
              "    }\n",
              "  </style>\n",
              "\n",
              "      <script>\n",
              "        const buttonEl =\n",
              "          document.querySelector('#df-97739302-a1cb-4fcd-b639-328fa3a4688a button.colab-df-convert');\n",
              "        buttonEl.style.display =\n",
              "          google.colab.kernel.accessAllowed ? 'block' : 'none';\n",
              "\n",
              "        async function convertToInteractive(key) {\n",
              "          const element = document.querySelector('#df-97739302-a1cb-4fcd-b639-328fa3a4688a');\n",
              "          const dataTable =\n",
              "            await google.colab.kernel.invokeFunction('convertToInteractive',\n",
              "                                                     [key], {});\n",
              "          if (!dataTable) return;\n",
              "\n",
              "          const docLinkHtml = 'Like what you see? Visit the ' +\n",
              "            '<a target=\"_blank\" href=https://colab.research.google.com/notebooks/data_table.ipynb>data table notebook</a>'\n",
              "            + ' to learn more about interactive tables.';\n",
              "          element.innerHTML = '';\n",
              "          dataTable['output_type'] = 'display_data';\n",
              "          await google.colab.output.renderOutput(dataTable, element);\n",
              "          const docLink = document.createElement('div');\n",
              "          docLink.innerHTML = docLinkHtml;\n",
              "          element.appendChild(docLink);\n",
              "        }\n",
              "      </script>\n",
              "    </div>\n",
              "  </div>\n",
              "  "
            ]
          },
          "metadata": {},
          "execution_count": 69
        }
      ]
    },
    {
      "cell_type": "code",
      "source": [
        "hist.corr()"
      ],
      "metadata": {
        "colab": {
          "base_uri": "https://localhost:8080/",
          "height": 206
        },
        "id": "o4rAbBTxhwKF",
        "outputId": "63790bb0-3624-44e9-94dc-3d19a40fc1ce"
      },
      "execution_count": null,
      "outputs": [
        {
          "output_type": "execute_result",
          "data": {
            "text/plain": [
              "              Флаг дозвона  Флаг продажи   Расходы        PV       NPV\n",
              "Флаг дозвона      1.000000      0.537421  0.340345  0.483508  0.398258\n",
              "Флаг продажи      0.537421      1.000000  0.632489  0.899682  0.741486\n",
              "Расходы           0.340345      0.632489  1.000000  0.567317  0.144875\n",
              "PV                0.483508      0.899682  0.567317  1.000000  0.897001\n",
              "NPV               0.398258      0.741486  0.144875  0.897001  1.000000"
            ],
            "text/html": [
              "\n",
              "  <div id=\"df-a8ad02e6-35f4-472e-988e-b2ed1999c053\">\n",
              "    <div class=\"colab-df-container\">\n",
              "      <div>\n",
              "<style scoped>\n",
              "    .dataframe tbody tr th:only-of-type {\n",
              "        vertical-align: middle;\n",
              "    }\n",
              "\n",
              "    .dataframe tbody tr th {\n",
              "        vertical-align: top;\n",
              "    }\n",
              "\n",
              "    .dataframe thead th {\n",
              "        text-align: right;\n",
              "    }\n",
              "</style>\n",
              "<table border=\"1\" class=\"dataframe\">\n",
              "  <thead>\n",
              "    <tr style=\"text-align: right;\">\n",
              "      <th></th>\n",
              "      <th>Флаг дозвона</th>\n",
              "      <th>Флаг продажи</th>\n",
              "      <th>Расходы</th>\n",
              "      <th>PV</th>\n",
              "      <th>NPV</th>\n",
              "    </tr>\n",
              "  </thead>\n",
              "  <tbody>\n",
              "    <tr>\n",
              "      <th>Флаг дозвона</th>\n",
              "      <td>1.000000</td>\n",
              "      <td>0.537421</td>\n",
              "      <td>0.340345</td>\n",
              "      <td>0.483508</td>\n",
              "      <td>0.398258</td>\n",
              "    </tr>\n",
              "    <tr>\n",
              "      <th>Флаг продажи</th>\n",
              "      <td>0.537421</td>\n",
              "      <td>1.000000</td>\n",
              "      <td>0.632489</td>\n",
              "      <td>0.899682</td>\n",
              "      <td>0.741486</td>\n",
              "    </tr>\n",
              "    <tr>\n",
              "      <th>Расходы</th>\n",
              "      <td>0.340345</td>\n",
              "      <td>0.632489</td>\n",
              "      <td>1.000000</td>\n",
              "      <td>0.567317</td>\n",
              "      <td>0.144875</td>\n",
              "    </tr>\n",
              "    <tr>\n",
              "      <th>PV</th>\n",
              "      <td>0.483508</td>\n",
              "      <td>0.899682</td>\n",
              "      <td>0.567317</td>\n",
              "      <td>1.000000</td>\n",
              "      <td>0.897001</td>\n",
              "    </tr>\n",
              "    <tr>\n",
              "      <th>NPV</th>\n",
              "      <td>0.398258</td>\n",
              "      <td>0.741486</td>\n",
              "      <td>0.144875</td>\n",
              "      <td>0.897001</td>\n",
              "      <td>1.000000</td>\n",
              "    </tr>\n",
              "  </tbody>\n",
              "</table>\n",
              "</div>\n",
              "      <button class=\"colab-df-convert\" onclick=\"convertToInteractive('df-a8ad02e6-35f4-472e-988e-b2ed1999c053')\"\n",
              "              title=\"Convert this dataframe to an interactive table.\"\n",
              "              style=\"display:none;\">\n",
              "        \n",
              "  <svg xmlns=\"http://www.w3.org/2000/svg\" height=\"24px\"viewBox=\"0 0 24 24\"\n",
              "       width=\"24px\">\n",
              "    <path d=\"M0 0h24v24H0V0z\" fill=\"none\"/>\n",
              "    <path d=\"M18.56 5.44l.94 2.06.94-2.06 2.06-.94-2.06-.94-.94-2.06-.94 2.06-2.06.94zm-11 1L8.5 8.5l.94-2.06 2.06-.94-2.06-.94L8.5 2.5l-.94 2.06-2.06.94zm10 10l.94 2.06.94-2.06 2.06-.94-2.06-.94-.94-2.06-.94 2.06-2.06.94z\"/><path d=\"M17.41 7.96l-1.37-1.37c-.4-.4-.92-.59-1.43-.59-.52 0-1.04.2-1.43.59L10.3 9.45l-7.72 7.72c-.78.78-.78 2.05 0 2.83L4 21.41c.39.39.9.59 1.41.59.51 0 1.02-.2 1.41-.59l7.78-7.78 2.81-2.81c.8-.78.8-2.07 0-2.86zM5.41 20L4 18.59l7.72-7.72 1.47 1.35L5.41 20z\"/>\n",
              "  </svg>\n",
              "      </button>\n",
              "      \n",
              "  <style>\n",
              "    .colab-df-container {\n",
              "      display:flex;\n",
              "      flex-wrap:wrap;\n",
              "      gap: 12px;\n",
              "    }\n",
              "\n",
              "    .colab-df-convert {\n",
              "      background-color: #E8F0FE;\n",
              "      border: none;\n",
              "      border-radius: 50%;\n",
              "      cursor: pointer;\n",
              "      display: none;\n",
              "      fill: #1967D2;\n",
              "      height: 32px;\n",
              "      padding: 0 0 0 0;\n",
              "      width: 32px;\n",
              "    }\n",
              "\n",
              "    .colab-df-convert:hover {\n",
              "      background-color: #E2EBFA;\n",
              "      box-shadow: 0px 1px 2px rgba(60, 64, 67, 0.3), 0px 1px 3px 1px rgba(60, 64, 67, 0.15);\n",
              "      fill: #174EA6;\n",
              "    }\n",
              "\n",
              "    [theme=dark] .colab-df-convert {\n",
              "      background-color: #3B4455;\n",
              "      fill: #D2E3FC;\n",
              "    }\n",
              "\n",
              "    [theme=dark] .colab-df-convert:hover {\n",
              "      background-color: #434B5C;\n",
              "      box-shadow: 0px 1px 3px 1px rgba(0, 0, 0, 0.15);\n",
              "      filter: drop-shadow(0px 1px 2px rgba(0, 0, 0, 0.3));\n",
              "      fill: #FFFFFF;\n",
              "    }\n",
              "  </style>\n",
              "\n",
              "      <script>\n",
              "        const buttonEl =\n",
              "          document.querySelector('#df-a8ad02e6-35f4-472e-988e-b2ed1999c053 button.colab-df-convert');\n",
              "        buttonEl.style.display =\n",
              "          google.colab.kernel.accessAllowed ? 'block' : 'none';\n",
              "\n",
              "        async function convertToInteractive(key) {\n",
              "          const element = document.querySelector('#df-a8ad02e6-35f4-472e-988e-b2ed1999c053');\n",
              "          const dataTable =\n",
              "            await google.colab.kernel.invokeFunction('convertToInteractive',\n",
              "                                                     [key], {});\n",
              "          if (!dataTable) return;\n",
              "\n",
              "          const docLinkHtml = 'Like what you see? Visit the ' +\n",
              "            '<a target=\"_blank\" href=https://colab.research.google.com/notebooks/data_table.ipynb>data table notebook</a>'\n",
              "            + ' to learn more about interactive tables.';\n",
              "          element.innerHTML = '';\n",
              "          dataTable['output_type'] = 'display_data';\n",
              "          await google.colab.output.renderOutput(dataTable, element);\n",
              "          const docLink = document.createElement('div');\n",
              "          docLink.innerHTML = docLinkHtml;\n",
              "          element.appendChild(docLink);\n",
              "        }\n",
              "      </script>\n",
              "    </div>\n",
              "  </div>\n",
              "  "
            ]
          },
          "metadata": {},
          "execution_count": 70
        }
      ]
    },
    {
      "cell_type": "markdown",
      "source": [
        "\n",
        "У нас нет времени ждать созревания PV (а заодно и NPV), но эта метрика довольно сильно коррелирует с флагом продажи, поэтому в качестве метрики для теста выберем его частоту.\n",
        "\n",
        "Альтернатива: $p_{1} > p_{2}$, где $p_{1}$ частота продаж для контроля, а $p_{2}$ - для теста."
      ],
      "metadata": {
        "id": "cgAskuxRg_Ee"
      }
    },
    {
      "cell_type": "markdown",
      "source": [
        "Оценим MDE :\n"
      ],
      "metadata": {
        "id": "GWRotGKV50wS"
      }
    },
    {
      "cell_type": "code",
      "source": [
        "p = hist['Флаг продажи'].mean() \n",
        "mde = p * 0.08\n",
        "print('mde:', mde)"
      ],
      "metadata": {
        "colab": {
          "base_uri": "https://localhost:8080/"
        },
        "id": "cQlY_OvpiT2r",
        "outputId": "c939fe7e-970b-4903-e5fa-6bebd53cfda8"
      },
      "execution_count": null,
      "outputs": [
        {
          "output_type": "stream",
          "name": "stdout",
          "text": [
            "mde: 0.024173722647967737\n"
          ]
        }
      ]
    },
    {
      "cell_type": "markdown",
      "source": [
        "Вероятности ошибок первого и второго рода:"
      ],
      "metadata": {
        "id": "6qXFvxZl5rS3"
      }
    },
    {
      "cell_type": "code",
      "source": [
        "alpha = 0.05 \n",
        "beta = 0.2 "
      ],
      "metadata": {
        "id": "cNvKvlXV5s9u"
      },
      "execution_count": null,
      "outputs": []
    },
    {
      "cell_type": "markdown",
      "source": [
        "Расчитаем размер выборки.\n",
        "\n",
        "![image.png](data:image/png;base64,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)"
      ],
      "metadata": {
        "id": "gkotizQUGXYw"
      }
    },
    {
      "cell_type": "code",
      "source": [
        "k = 1/2 # доля теста (контроля)\n",
        "n = round(p * (1-p) *(norm.ppf(1-alpha) - norm.ppf(beta))**2 / (k * mde**2))\n",
        "print('Размер выборки:', n)"
      ],
      "metadata": {
        "colab": {
          "base_uri": "https://localhost:8080/"
        },
        "id": "_szB_U2nqzPl",
        "outputId": "412e89b1-0ade-4396-855d-5ff9be046cee"
      },
      "execution_count": null,
      "outputs": [
        {
          "output_type": "stream",
          "name": "stdout",
          "text": [
            "Размер выборки: 4462\n"
          ]
        }
      ]
    },
    {
      "cell_type": "markdown",
      "source": [
        "Получили выборки. Проводим тест."
      ],
      "metadata": {
        "id": "TzvATGDSAd4v"
      }
    },
    {
      "cell_type": "code",
      "source": [
        "A = pd.read_csv('/content/gdrive/MyDrive/AB tink/Контроль.csv', index_col=0)\n",
        "B = pd.read_csv('/content/gdrive/MyDrive/AB tink/Тест.csv', index_col=0)\n",
        "\n",
        "c1 = sum(A['Флаг продажи'])\n",
        "c2 = sum(B['Флаг продажи'])\n",
        "\n",
        "_, p_v = proportions_ztest(\n",
        "    [c1, c2], \n",
        "    [n, n],\n",
        "    alternative='larger'\n",
        ")\n",
        "\n",
        "print('p-value:', p_v)"
      ],
      "metadata": {
        "colab": {
          "base_uri": "https://localhost:8080/"
        },
        "id": "UGr_yTh7q6ZZ",
        "outputId": "f97914f2-3c05-45c0-bbfe-3c2a28908399"
      },
      "execution_count": null,
      "outputs": [
        {
          "output_type": "stream",
          "name": "stdout",
          "text": [
            "p-value: 0.06241334945981705\n"
          ]
        }
      ]
    },
    {
      "cell_type": "markdown",
      "source": [
        "\n",
        "Получили, что статистически значимых различий нет. Отклонить нулевую гипотезу не можем, но в то же время не можем принять и альтернативную.\n",
        "\n",
        "\n",
        "Хочется понять есть ли реальные различия. Посчитаем наблюдаемое изменение и сравним с полученным ранее прогнозом mde."
      ],
      "metadata": {
        "id": "rdozHT3KvsEb"
      }
    },
    {
      "cell_type": "code",
      "source": [
        "p1 = c1 / n \n",
        "p2 = c2 / n \n",
        "print('наблюдаемое изменение:', p1-p2)\n",
        "print('минимальный замечаемый тестом эффект:', mde)"
      ],
      "metadata": {
        "colab": {
          "base_uri": "https://localhost:8080/"
        },
        "id": "buIf54UWvrQ9",
        "outputId": "3045b1f1-1d08-46ba-b439-6c00d86135f1"
      },
      "execution_count": null,
      "outputs": [
        {
          "output_type": "stream",
          "name": "stdout",
          "text": [
            "наблюдаемое изменение: 0.014791573285522164 0.05176470588235286\n",
            "минимальный замечаемый тестом эффект: 0.024173722647967737\n"
          ]
        }
      ]
    },
    {
      "cell_type": "markdown",
      "source": [
        "Оцененное значение больше чем наблюдаемое. Это значит, что мы не можем утвержать \n",
        "\n",
        "Получается, не можем утверждать, что метрика на тесте и контроле различается. Но выбор сделать надо, так как предыдущий вариант скрипта в любом случае снимается. Можно выбрать вариант скрипта с большим числом продаж, так как этот параметр коррелировал с PV на исторических данных."
      ],
      "metadata": {
        "id": "IDI-hZlrL5Y5"
      }
    }
  ]
}